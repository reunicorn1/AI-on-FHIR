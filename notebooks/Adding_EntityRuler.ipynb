{
  "nbformat": 4,
  "nbformat_minor": 0,
  "metadata": {
    "colab": {
      "provenance": []
    },
    "kernelspec": {
      "name": "python3",
      "display_name": "Python 3"
    },
    "language_info": {
      "name": "python"
    }
  },
  "cells": [
    {
      "cell_type": "code",
      "source": [
        "# In a notebook cell\n",
        "!pip install -U spacy[transformers]\n",
        "!python -m spacy download en_core_web_trf"
      ],
      "metadata": {
        "colab": {
          "base_uri": "https://localhost:8080/"
        },
        "id": "Xjh5hFvJKRNF",
        "outputId": "20d49933-af9b-48d4-ffc1-a708bf98549b"
      },
      "execution_count": null,
      "outputs": [
        {
          "output_type": "stream",
          "name": "stdout",
          "text": [
            "Requirement already satisfied: spacy[transformers] in /usr/local/lib/python3.12/dist-packages (3.8.7)\n",
            "Requirement already satisfied: spacy-legacy<3.1.0,>=3.0.11 in /usr/local/lib/python3.12/dist-packages (from spacy[transformers]) (3.0.12)\n",
            "Requirement already satisfied: spacy-loggers<2.0.0,>=1.0.0 in /usr/local/lib/python3.12/dist-packages (from spacy[transformers]) (1.0.5)\n",
            "Requirement already satisfied: murmurhash<1.1.0,>=0.28.0 in /usr/local/lib/python3.12/dist-packages (from spacy[transformers]) (1.0.13)\n",
            "Requirement already satisfied: cymem<2.1.0,>=2.0.2 in /usr/local/lib/python3.12/dist-packages (from spacy[transformers]) (2.0.11)\n",
            "Requirement already satisfied: preshed<3.1.0,>=3.0.2 in /usr/local/lib/python3.12/dist-packages (from spacy[transformers]) (3.0.10)\n",
            "Requirement already satisfied: thinc<8.4.0,>=8.3.4 in /usr/local/lib/python3.12/dist-packages (from spacy[transformers]) (8.3.6)\n",
            "Requirement already satisfied: wasabi<1.2.0,>=0.9.1 in /usr/local/lib/python3.12/dist-packages (from spacy[transformers]) (1.1.3)\n",
            "Requirement already satisfied: srsly<3.0.0,>=2.4.3 in /usr/local/lib/python3.12/dist-packages (from spacy[transformers]) (2.5.1)\n",
            "Requirement already satisfied: catalogue<2.1.0,>=2.0.6 in /usr/local/lib/python3.12/dist-packages (from spacy[transformers]) (2.0.10)\n",
            "Requirement already satisfied: weasel<0.5.0,>=0.1.0 in /usr/local/lib/python3.12/dist-packages (from spacy[transformers]) (0.4.1)\n",
            "Requirement already satisfied: typer<1.0.0,>=0.3.0 in /usr/local/lib/python3.12/dist-packages (from spacy[transformers]) (0.17.4)\n",
            "Requirement already satisfied: tqdm<5.0.0,>=4.38.0 in /usr/local/lib/python3.12/dist-packages (from spacy[transformers]) (4.67.1)\n",
            "Requirement already satisfied: numpy>=1.19.0 in /usr/local/lib/python3.12/dist-packages (from spacy[transformers]) (2.0.2)\n",
            "Requirement already satisfied: requests<3.0.0,>=2.13.0 in /usr/local/lib/python3.12/dist-packages (from spacy[transformers]) (2.32.4)\n",
            "Requirement already satisfied: pydantic!=1.8,!=1.8.1,<3.0.0,>=1.7.4 in /usr/local/lib/python3.12/dist-packages (from spacy[transformers]) (2.11.7)\n",
            "Requirement already satisfied: jinja2 in /usr/local/lib/python3.12/dist-packages (from spacy[transformers]) (3.1.6)\n",
            "Requirement already satisfied: setuptools in /usr/local/lib/python3.12/dist-packages (from spacy[transformers]) (75.2.0)\n",
            "Requirement already satisfied: packaging>=20.0 in /usr/local/lib/python3.12/dist-packages (from spacy[transformers]) (25.0)\n",
            "Requirement already satisfied: langcodes<4.0.0,>=3.2.0 in /usr/local/lib/python3.12/dist-packages (from spacy[transformers]) (3.5.0)\n",
            "Requirement already satisfied: spacy_transformers<1.4.0,>=1.1.2 in /usr/local/lib/python3.12/dist-packages (from spacy[transformers]) (1.3.9)\n",
            "Requirement already satisfied: language-data>=1.2 in /usr/local/lib/python3.12/dist-packages (from langcodes<4.0.0,>=3.2.0->spacy[transformers]) (1.3.0)\n",
            "Requirement already satisfied: annotated-types>=0.6.0 in /usr/local/lib/python3.12/dist-packages (from pydantic!=1.8,!=1.8.1,<3.0.0,>=1.7.4->spacy[transformers]) (0.7.0)\n",
            "Requirement already satisfied: pydantic-core==2.33.2 in /usr/local/lib/python3.12/dist-packages (from pydantic!=1.8,!=1.8.1,<3.0.0,>=1.7.4->spacy[transformers]) (2.33.2)\n",
            "Requirement already satisfied: typing-extensions>=4.12.2 in /usr/local/lib/python3.12/dist-packages (from pydantic!=1.8,!=1.8.1,<3.0.0,>=1.7.4->spacy[transformers]) (4.15.0)\n",
            "Requirement already satisfied: typing-inspection>=0.4.0 in /usr/local/lib/python3.12/dist-packages (from pydantic!=1.8,!=1.8.1,<3.0.0,>=1.7.4->spacy[transformers]) (0.4.1)\n",
            "Requirement already satisfied: charset_normalizer<4,>=2 in /usr/local/lib/python3.12/dist-packages (from requests<3.0.0,>=2.13.0->spacy[transformers]) (3.4.3)\n",
            "Requirement already satisfied: idna<4,>=2.5 in /usr/local/lib/python3.12/dist-packages (from requests<3.0.0,>=2.13.0->spacy[transformers]) (3.10)\n",
            "Requirement already satisfied: urllib3<3,>=1.21.1 in /usr/local/lib/python3.12/dist-packages (from requests<3.0.0,>=2.13.0->spacy[transformers]) (2.5.0)\n",
            "Requirement already satisfied: certifi>=2017.4.17 in /usr/local/lib/python3.12/dist-packages (from requests<3.0.0,>=2.13.0->spacy[transformers]) (2025.8.3)\n",
            "Requirement already satisfied: transformers<4.50.0,>=3.4.0 in /usr/local/lib/python3.12/dist-packages (from spacy_transformers<1.4.0,>=1.1.2->spacy[transformers]) (4.49.0)\n",
            "Requirement already satisfied: torch>=1.8.0 in /usr/local/lib/python3.12/dist-packages (from spacy_transformers<1.4.0,>=1.1.2->spacy[transformers]) (2.8.0+cu126)\n",
            "Requirement already satisfied: spacy-alignments<1.0.0,>=0.7.2 in /usr/local/lib/python3.12/dist-packages (from spacy_transformers<1.4.0,>=1.1.2->spacy[transformers]) (0.9.2)\n",
            "Requirement already satisfied: blis<1.4.0,>=1.3.0 in /usr/local/lib/python3.12/dist-packages (from thinc<8.4.0,>=8.3.4->spacy[transformers]) (1.3.0)\n",
            "Requirement already satisfied: confection<1.0.0,>=0.0.1 in /usr/local/lib/python3.12/dist-packages (from thinc<8.4.0,>=8.3.4->spacy[transformers]) (0.1.5)\n",
            "Requirement already satisfied: click>=8.0.0 in /usr/local/lib/python3.12/dist-packages (from typer<1.0.0,>=0.3.0->spacy[transformers]) (8.2.1)\n",
            "Requirement already satisfied: shellingham>=1.3.0 in /usr/local/lib/python3.12/dist-packages (from typer<1.0.0,>=0.3.0->spacy[transformers]) (1.5.4)\n",
            "Requirement already satisfied: rich>=10.11.0 in /usr/local/lib/python3.12/dist-packages (from typer<1.0.0,>=0.3.0->spacy[transformers]) (13.9.4)\n",
            "Requirement already satisfied: cloudpathlib<1.0.0,>=0.7.0 in /usr/local/lib/python3.12/dist-packages (from weasel<0.5.0,>=0.1.0->spacy[transformers]) (0.22.0)\n",
            "Requirement already satisfied: smart-open<8.0.0,>=5.2.1 in /usr/local/lib/python3.12/dist-packages (from weasel<0.5.0,>=0.1.0->spacy[transformers]) (7.3.1)\n",
            "Requirement already satisfied: MarkupSafe>=2.0 in /usr/local/lib/python3.12/dist-packages (from jinja2->spacy[transformers]) (3.0.2)\n",
            "Requirement already satisfied: marisa-trie>=1.1.0 in /usr/local/lib/python3.12/dist-packages (from language-data>=1.2->langcodes<4.0.0,>=3.2.0->spacy[transformers]) (1.3.1)\n",
            "Requirement already satisfied: markdown-it-py>=2.2.0 in /usr/local/lib/python3.12/dist-packages (from rich>=10.11.0->typer<1.0.0,>=0.3.0->spacy[transformers]) (4.0.0)\n",
            "Requirement already satisfied: pygments<3.0.0,>=2.13.0 in /usr/local/lib/python3.12/dist-packages (from rich>=10.11.0->typer<1.0.0,>=0.3.0->spacy[transformers]) (2.19.2)\n",
            "Requirement already satisfied: wrapt in /usr/local/lib/python3.12/dist-packages (from smart-open<8.0.0,>=5.2.1->weasel<0.5.0,>=0.1.0->spacy[transformers]) (1.17.3)\n",
            "Requirement already satisfied: filelock in /usr/local/lib/python3.12/dist-packages (from torch>=1.8.0->spacy_transformers<1.4.0,>=1.1.2->spacy[transformers]) (3.19.1)\n",
            "Requirement already satisfied: sympy>=1.13.3 in /usr/local/lib/python3.12/dist-packages (from torch>=1.8.0->spacy_transformers<1.4.0,>=1.1.2->spacy[transformers]) (1.13.3)\n",
            "Requirement already satisfied: networkx in /usr/local/lib/python3.12/dist-packages (from torch>=1.8.0->spacy_transformers<1.4.0,>=1.1.2->spacy[transformers]) (3.5)\n",
            "Requirement already satisfied: fsspec in /usr/local/lib/python3.12/dist-packages (from torch>=1.8.0->spacy_transformers<1.4.0,>=1.1.2->spacy[transformers]) (2025.3.0)\n",
            "Requirement already satisfied: nvidia-cuda-nvrtc-cu12==12.6.77 in /usr/local/lib/python3.12/dist-packages (from torch>=1.8.0->spacy_transformers<1.4.0,>=1.1.2->spacy[transformers]) (12.6.77)\n",
            "Requirement already satisfied: nvidia-cuda-runtime-cu12==12.6.77 in /usr/local/lib/python3.12/dist-packages (from torch>=1.8.0->spacy_transformers<1.4.0,>=1.1.2->spacy[transformers]) (12.6.77)\n",
            "Requirement already satisfied: nvidia-cuda-cupti-cu12==12.6.80 in /usr/local/lib/python3.12/dist-packages (from torch>=1.8.0->spacy_transformers<1.4.0,>=1.1.2->spacy[transformers]) (12.6.80)\n",
            "Requirement already satisfied: nvidia-cudnn-cu12==9.10.2.21 in /usr/local/lib/python3.12/dist-packages (from torch>=1.8.0->spacy_transformers<1.4.0,>=1.1.2->spacy[transformers]) (9.10.2.21)\n",
            "Requirement already satisfied: nvidia-cublas-cu12==12.6.4.1 in /usr/local/lib/python3.12/dist-packages (from torch>=1.8.0->spacy_transformers<1.4.0,>=1.1.2->spacy[transformers]) (12.6.4.1)\n",
            "Requirement already satisfied: nvidia-cufft-cu12==11.3.0.4 in /usr/local/lib/python3.12/dist-packages (from torch>=1.8.0->spacy_transformers<1.4.0,>=1.1.2->spacy[transformers]) (11.3.0.4)\n",
            "Requirement already satisfied: nvidia-curand-cu12==10.3.7.77 in /usr/local/lib/python3.12/dist-packages (from torch>=1.8.0->spacy_transformers<1.4.0,>=1.1.2->spacy[transformers]) (10.3.7.77)\n",
            "Requirement already satisfied: nvidia-cusolver-cu12==11.7.1.2 in /usr/local/lib/python3.12/dist-packages (from torch>=1.8.0->spacy_transformers<1.4.0,>=1.1.2->spacy[transformers]) (11.7.1.2)\n",
            "Requirement already satisfied: nvidia-cusparse-cu12==12.5.4.2 in /usr/local/lib/python3.12/dist-packages (from torch>=1.8.0->spacy_transformers<1.4.0,>=1.1.2->spacy[transformers]) (12.5.4.2)\n",
            "Requirement already satisfied: nvidia-cusparselt-cu12==0.7.1 in /usr/local/lib/python3.12/dist-packages (from torch>=1.8.0->spacy_transformers<1.4.0,>=1.1.2->spacy[transformers]) (0.7.1)\n",
            "Requirement already satisfied: nvidia-nccl-cu12==2.27.3 in /usr/local/lib/python3.12/dist-packages (from torch>=1.8.0->spacy_transformers<1.4.0,>=1.1.2->spacy[transformers]) (2.27.3)\n",
            "Requirement already satisfied: nvidia-nvtx-cu12==12.6.77 in /usr/local/lib/python3.12/dist-packages (from torch>=1.8.0->spacy_transformers<1.4.0,>=1.1.2->spacy[transformers]) (12.6.77)\n",
            "Requirement already satisfied: nvidia-nvjitlink-cu12==12.6.85 in /usr/local/lib/python3.12/dist-packages (from torch>=1.8.0->spacy_transformers<1.4.0,>=1.1.2->spacy[transformers]) (12.6.85)\n",
            "Requirement already satisfied: nvidia-cufile-cu12==1.11.1.6 in /usr/local/lib/python3.12/dist-packages (from torch>=1.8.0->spacy_transformers<1.4.0,>=1.1.2->spacy[transformers]) (1.11.1.6)\n",
            "Requirement already satisfied: triton==3.4.0 in /usr/local/lib/python3.12/dist-packages (from torch>=1.8.0->spacy_transformers<1.4.0,>=1.1.2->spacy[transformers]) (3.4.0)\n",
            "Requirement already satisfied: huggingface-hub<1.0,>=0.26.0 in /usr/local/lib/python3.12/dist-packages (from transformers<4.50.0,>=3.4.0->spacy_transformers<1.4.0,>=1.1.2->spacy[transformers]) (0.34.4)\n",
            "Requirement already satisfied: pyyaml>=5.1 in /usr/local/lib/python3.12/dist-packages (from transformers<4.50.0,>=3.4.0->spacy_transformers<1.4.0,>=1.1.2->spacy[transformers]) (6.0.2)\n",
            "Requirement already satisfied: regex!=2019.12.17 in /usr/local/lib/python3.12/dist-packages (from transformers<4.50.0,>=3.4.0->spacy_transformers<1.4.0,>=1.1.2->spacy[transformers]) (2024.11.6)\n",
            "Requirement already satisfied: tokenizers<0.22,>=0.21 in /usr/local/lib/python3.12/dist-packages (from transformers<4.50.0,>=3.4.0->spacy_transformers<1.4.0,>=1.1.2->spacy[transformers]) (0.21.4)\n",
            "Requirement already satisfied: safetensors>=0.4.1 in /usr/local/lib/python3.12/dist-packages (from transformers<4.50.0,>=3.4.0->spacy_transformers<1.4.0,>=1.1.2->spacy[transformers]) (0.6.2)\n",
            "Requirement already satisfied: hf-xet<2.0.0,>=1.1.3 in /usr/local/lib/python3.12/dist-packages (from huggingface-hub<1.0,>=0.26.0->transformers<4.50.0,>=3.4.0->spacy_transformers<1.4.0,>=1.1.2->spacy[transformers]) (1.1.9)\n",
            "Requirement already satisfied: mdurl~=0.1 in /usr/local/lib/python3.12/dist-packages (from markdown-it-py>=2.2.0->rich>=10.11.0->typer<1.0.0,>=0.3.0->spacy[transformers]) (0.1.2)\n",
            "Requirement already satisfied: mpmath<1.4,>=1.1.0 in /usr/local/lib/python3.12/dist-packages (from sympy>=1.13.3->torch>=1.8.0->spacy_transformers<1.4.0,>=1.1.2->spacy[transformers]) (1.3.0)\n",
            "Collecting en-core-web-trf==3.8.0\n",
            "  Downloading https://github.com/explosion/spacy-models/releases/download/en_core_web_trf-3.8.0/en_core_web_trf-3.8.0-py3-none-any.whl (457.4 MB)\n",
            "\u001b[2K     \u001b[90m━━━━━━━━━━━━━━━━━━━━━━━━━━━━━━━━━━━━━━━\u001b[0m \u001b[32m457.4/457.4 MB\u001b[0m \u001b[31m1.3 MB/s\u001b[0m eta \u001b[36m0:00:00\u001b[0m\n",
            "\u001b[?25hRequirement already satisfied: spacy-curated-transformers<1.0.0,>=0.2.2 in /usr/local/lib/python3.12/dist-packages (from en-core-web-trf==3.8.0) (0.3.1)\n",
            "Requirement already satisfied: curated-transformers<0.2.0,>=0.1.0 in /usr/local/lib/python3.12/dist-packages (from spacy-curated-transformers<1.0.0,>=0.2.2->en-core-web-trf==3.8.0) (0.1.1)\n",
            "Requirement already satisfied: curated-tokenizers<0.1.0,>=0.0.9 in /usr/local/lib/python3.12/dist-packages (from spacy-curated-transformers<1.0.0,>=0.2.2->en-core-web-trf==3.8.0) (0.0.9)\n",
            "Requirement already satisfied: torch>=1.12.0 in /usr/local/lib/python3.12/dist-packages (from spacy-curated-transformers<1.0.0,>=0.2.2->en-core-web-trf==3.8.0) (2.8.0+cu126)\n",
            "Requirement already satisfied: regex>=2022 in /usr/local/lib/python3.12/dist-packages (from curated-tokenizers<0.1.0,>=0.0.9->spacy-curated-transformers<1.0.0,>=0.2.2->en-core-web-trf==3.8.0) (2024.11.6)\n",
            "Requirement already satisfied: filelock in /usr/local/lib/python3.12/dist-packages (from torch>=1.12.0->spacy-curated-transformers<1.0.0,>=0.2.2->en-core-web-trf==3.8.0) (3.19.1)\n",
            "Requirement already satisfied: typing-extensions>=4.10.0 in /usr/local/lib/python3.12/dist-packages (from torch>=1.12.0->spacy-curated-transformers<1.0.0,>=0.2.2->en-core-web-trf==3.8.0) (4.15.0)\n",
            "Requirement already satisfied: setuptools in /usr/local/lib/python3.12/dist-packages (from torch>=1.12.0->spacy-curated-transformers<1.0.0,>=0.2.2->en-core-web-trf==3.8.0) (75.2.0)\n",
            "Requirement already satisfied: sympy>=1.13.3 in /usr/local/lib/python3.12/dist-packages (from torch>=1.12.0->spacy-curated-transformers<1.0.0,>=0.2.2->en-core-web-trf==3.8.0) (1.13.3)\n",
            "Requirement already satisfied: networkx in /usr/local/lib/python3.12/dist-packages (from torch>=1.12.0->spacy-curated-transformers<1.0.0,>=0.2.2->en-core-web-trf==3.8.0) (3.5)\n",
            "Requirement already satisfied: jinja2 in /usr/local/lib/python3.12/dist-packages (from torch>=1.12.0->spacy-curated-transformers<1.0.0,>=0.2.2->en-core-web-trf==3.8.0) (3.1.6)\n",
            "Requirement already satisfied: fsspec in /usr/local/lib/python3.12/dist-packages (from torch>=1.12.0->spacy-curated-transformers<1.0.0,>=0.2.2->en-core-web-trf==3.8.0) (2025.3.0)\n",
            "Requirement already satisfied: nvidia-cuda-nvrtc-cu12==12.6.77 in /usr/local/lib/python3.12/dist-packages (from torch>=1.12.0->spacy-curated-transformers<1.0.0,>=0.2.2->en-core-web-trf==3.8.0) (12.6.77)\n",
            "Requirement already satisfied: nvidia-cuda-runtime-cu12==12.6.77 in /usr/local/lib/python3.12/dist-packages (from torch>=1.12.0->spacy-curated-transformers<1.0.0,>=0.2.2->en-core-web-trf==3.8.0) (12.6.77)\n",
            "Requirement already satisfied: nvidia-cuda-cupti-cu12==12.6.80 in /usr/local/lib/python3.12/dist-packages (from torch>=1.12.0->spacy-curated-transformers<1.0.0,>=0.2.2->en-core-web-trf==3.8.0) (12.6.80)\n",
            "Requirement already satisfied: nvidia-cudnn-cu12==9.10.2.21 in /usr/local/lib/python3.12/dist-packages (from torch>=1.12.0->spacy-curated-transformers<1.0.0,>=0.2.2->en-core-web-trf==3.8.0) (9.10.2.21)\n",
            "Requirement already satisfied: nvidia-cublas-cu12==12.6.4.1 in /usr/local/lib/python3.12/dist-packages (from torch>=1.12.0->spacy-curated-transformers<1.0.0,>=0.2.2->en-core-web-trf==3.8.0) (12.6.4.1)\n",
            "Requirement already satisfied: nvidia-cufft-cu12==11.3.0.4 in /usr/local/lib/python3.12/dist-packages (from torch>=1.12.0->spacy-curated-transformers<1.0.0,>=0.2.2->en-core-web-trf==3.8.0) (11.3.0.4)\n",
            "Requirement already satisfied: nvidia-curand-cu12==10.3.7.77 in /usr/local/lib/python3.12/dist-packages (from torch>=1.12.0->spacy-curated-transformers<1.0.0,>=0.2.2->en-core-web-trf==3.8.0) (10.3.7.77)\n",
            "Requirement already satisfied: nvidia-cusolver-cu12==11.7.1.2 in /usr/local/lib/python3.12/dist-packages (from torch>=1.12.0->spacy-curated-transformers<1.0.0,>=0.2.2->en-core-web-trf==3.8.0) (11.7.1.2)\n",
            "Requirement already satisfied: nvidia-cusparse-cu12==12.5.4.2 in /usr/local/lib/python3.12/dist-packages (from torch>=1.12.0->spacy-curated-transformers<1.0.0,>=0.2.2->en-core-web-trf==3.8.0) (12.5.4.2)\n",
            "Requirement already satisfied: nvidia-cusparselt-cu12==0.7.1 in /usr/local/lib/python3.12/dist-packages (from torch>=1.12.0->spacy-curated-transformers<1.0.0,>=0.2.2->en-core-web-trf==3.8.0) (0.7.1)\n",
            "Requirement already satisfied: nvidia-nccl-cu12==2.27.3 in /usr/local/lib/python3.12/dist-packages (from torch>=1.12.0->spacy-curated-transformers<1.0.0,>=0.2.2->en-core-web-trf==3.8.0) (2.27.3)\n",
            "Requirement already satisfied: nvidia-nvtx-cu12==12.6.77 in /usr/local/lib/python3.12/dist-packages (from torch>=1.12.0->spacy-curated-transformers<1.0.0,>=0.2.2->en-core-web-trf==3.8.0) (12.6.77)\n",
            "Requirement already satisfied: nvidia-nvjitlink-cu12==12.6.85 in /usr/local/lib/python3.12/dist-packages (from torch>=1.12.0->spacy-curated-transformers<1.0.0,>=0.2.2->en-core-web-trf==3.8.0) (12.6.85)\n",
            "Requirement already satisfied: nvidia-cufile-cu12==1.11.1.6 in /usr/local/lib/python3.12/dist-packages (from torch>=1.12.0->spacy-curated-transformers<1.0.0,>=0.2.2->en-core-web-trf==3.8.0) (1.11.1.6)\n",
            "Requirement already satisfied: triton==3.4.0 in /usr/local/lib/python3.12/dist-packages (from torch>=1.12.0->spacy-curated-transformers<1.0.0,>=0.2.2->en-core-web-trf==3.8.0) (3.4.0)\n",
            "Requirement already satisfied: mpmath<1.4,>=1.1.0 in /usr/local/lib/python3.12/dist-packages (from sympy>=1.13.3->torch>=1.12.0->spacy-curated-transformers<1.0.0,>=0.2.2->en-core-web-trf==3.8.0) (1.3.0)\n",
            "Requirement already satisfied: MarkupSafe>=2.0 in /usr/local/lib/python3.12/dist-packages (from jinja2->torch>=1.12.0->spacy-curated-transformers<1.0.0,>=0.2.2->en-core-web-trf==3.8.0) (3.0.2)\n",
            "\u001b[38;5;2m✔ Download and installation successful\u001b[0m\n",
            "You can now load the package via spacy.load('en_core_web_trf')\n",
            "\u001b[38;5;3m⚠ Restart to reload dependencies\u001b[0m\n",
            "If you are in a Jupyter or Colab notebook, you may need to restart Python in\n",
            "order to load all the package's dependencies. You can do this by selecting the\n",
            "'Restart kernel' or 'Restart runtime' option.\n"
          ]
        }
      ]
    },
    {
      "cell_type": "code",
      "source": [
        "import spacy\n",
        "nlp = spacy.load(\"en_core_web_trf\")\n",
        "prompt = \"Show me all diabetic patients over 50\"\n",
        "doc = nlp(prompt)\n",
        "print([(ent.text, ent.label_) for ent in doc.ents])"
      ],
      "metadata": {
        "colab": {
          "base_uri": "https://localhost:8080/"
        },
        "id": "lKqFLnXbKYBA",
        "outputId": "2cf794cb-ed8b-4221-d36a-03badcd45a44"
      },
      "execution_count": null,
      "outputs": [
        {
          "output_type": "stream",
          "name": "stdout",
          "text": [
            "[('50', 'DATE')]\n"
          ]
        }
      ]
    },
    {
      "cell_type": "markdown",
      "source": [
        "Okay, now I know my benchmark only detect age and frame it as date :/"
      ],
      "metadata": {
        "id": "I4XE_VbaLGKJ"
      }
    },
    {
      "cell_type": "markdown",
      "source": [
        "Let's focus on detecting tags."
      ],
      "metadata": {
        "id": "7LZ7q5PgN6Op"
      }
    },
    {
      "cell_type": "markdown",
      "source": [
        "The goal is to make the model able to identiy specific dearch parameters for both paitent and condition resources.\n",
        "\n",
        "Let's start with Patient:\n",
        "Patient resoruce has these specific search paramters according to HL7:\n",
        "- **Demographics** (name, birthdate, gender, deceased)\n",
        "- **Identifiers** (ID, MRN, SSN, etc.)\n",
        "- **Contact** (phone, email, address parts)\n",
        "- **Relations** (organization, GP, linked patient)\n",
        "\n",
        "Some require synthetic data, some can be identified through regex and shape.\n",
        "\n",
        "Let's start simple -> RegEx"
      ],
      "metadata": {
        "id": "CY68IwTCPsWF"
      }
    },
    {
      "cell_type": "code",
      "source": [
        "phone_patterns = [\n",
        "        r'\\+\\d{1,3}[\\s-]?\\d{3,4}[\\s-]?\\d{3,4}[\\s-]?\\d{3,4}',  # International\n",
        "        r'\\d{10,15}',                   # 10+ digits usually phone\n",
        "        r'\\+\\d+',                       # Any number starting with +\n",
        "    ]\n",
        "\n",
        "identifier_patterns = [\n",
        "        r'\\d{9}',                  # 123456789 (9 consecutive digits)\n",
        "        r'^[A-Z0-9]{6,10}$'        # General format\n",
        "\n",
        "    ]\n"
      ],
      "metadata": {
        "id": "NoTInxJlgFA1"
      },
      "execution_count": null,
      "outputs": []
    },
    {
      "cell_type": "code",
      "source": [
        "patterns = []\n",
        "\n",
        "patterns.append({\n",
        "    \"label\": \"EMAIL\",\n",
        "    \"pattern\": [{\"TEXT\": {\"REGEX\": r\"[a-zA-Z0-9_.+-]+@[a-zA-Z0-9-]+\\.[a-zA-Z0-9-.]+\"}}]\n",
        "})\n",
        "\n",
        "for p in phone_patterns:\n",
        "    patterns.append({\"label\": \"PHONE\", \"pattern\": [{\"TEXT\": {\"REGEX\": p}}]})\n",
        "\n",
        "for p in identifier_patterns:\n",
        "    patterns.append({\"label\": \"IDENTIFIER\", \"pattern\": [{\"TEXT\": {\"REGEX\": p}}]})"
      ],
      "metadata": {
        "id": "LWPDWRREOEI-"
      },
      "execution_count": null,
      "outputs": []
    },
    {
      "cell_type": "markdown",
      "source": [
        "**age-related distinctions**\n",
        "\n",
        "I'll build my RegEx based on the following examples:\n",
        "\n",
        "\n",
        "*   Find patients born in 1985 → Patients?birthdate=1985\n",
        "*   Show me patients born between 1990 and 2000 → Patients?birthdate=ge1990&birthdate=le2000\n",
        "*   Get patients born on January 15, 1995 → Patients?birthdate=1995-01-15\n",
        "*   Show patients named Fatima, born in 1995, living in Cairo.\n",
        "*   Find all pediatric patients (born after 2010) → Patients?birthdate=gt2010-01-01\n",
        "*   Show elderly patients (born before 1950) → Patients?birthdate=lt1950-01-01\n",
        "*   Find patients born this century → Patients?birthdate=ge2000-01-01\n",
        "*   Show patients in their 30s → Patients?birthdate=ge1990-01-01&birthdate=le1999-12-31\n",
        "\n",
        "\n",
        "\n"
      ],
      "metadata": {
        "id": "ImjsYbhMqxfb"
      }
    },
    {
      "cell_type": "markdown",
      "source": [
        "First approach, was to identify the birth year kind of possibilities. But year can be used in death, condition timing and so many thing.\n",
        "\n",
        "The plan is that, whenever birth keyword is followed by a year. this will be flagged later in the consturction of the prompt as birth year."
      ],
      "metadata": {
        "id": "dnCMKhPh0iuY"
      }
    },
    {
      "cell_type": "markdown",
      "source": [
        "- Find patients who died in 2023 → Patients?deceased=2023\n",
        "- Get patients deceased on specific 2023-03-15 → Patients?deceased=2023-03-15\n",
        "- Show patients who died after 2020 → Patients?deceased=gt2020-12-31\n",
        "\n",
        "All these e"
      ],
      "metadata": {
        "id": "SmbFX23s1xQ0"
      }
    },
    {
      "cell_type": "code",
      "source": [
        "patterns.extend([\n",
        "    # words that identify we're talking about death\n",
        "    {\"label\": \"DEATH_KEYWORD\", \"pattern\": [{\"LOWER\": \"died\"}]},\n",
        "    {\"label\": \"DEATH_KEYWORD\", \"pattern\": [{\"LOWER\": \"deceased\"}]},\n",
        "    {\"label\": \"DEATH_KEYWORD\", \"pattern\": [{\"LOWER\": \"passed\"}, {\"LOWER\": \"away\"}]},\n",
        "\n",
        "    # words that identify we're talking about birth\n",
        "    {\"label\": \"BIRTH_KEYWORD\", \"pattern\": [{\"LOWER\": \"born\"}]},\n",
        "    {\"label\": \"BIRTH_KEYWORD\", \"pattern\": [{\"LOWER\": \"birth\"}]},\n",
        "    {\"label\": \"BIRTH_KEYWORD\", \"pattern\": [{\"LOWER\": \"dob\"}]},\n",
        "\n",
        "    # Ranges: 1990 to 2000\n",
        "    {\"label\": \"YEAR_RANGE\", \"pattern\": [{\"TEXT\": {\"REGEX\": r\"\\d{4}\"}},\n",
        "                                         {\"LOWER\": {\"IN\": [\"to\", \"and\", \"-\"]}},\n",
        "                                         {\"TEXT\": {\"REGEX\": r\"\\d{4}\"}}]},\n",
        "\n",
        "    # Keywords: after / before\n",
        "    {\"label\": \"YEAR_AFTER\", \"pattern\": [{\"LOWER\": {\"IN\": [\"after\", \"gt\", \"greater\"]}},\n",
        "                                         {\"TEXT\": {\"REGEX\": r\"\\d{4}\"}}]},\n",
        "\n",
        "    {\"label\": \"YEAR_BEFORE\", \"pattern\": [{\"LOWER\": {\"IN\": [\"before\", \"lt\", \"less\"]}},\n",
        "                                          {\"TEXT\": {\"REGEX\": r\"\\d{4}\"}}]},\n",
        "\n",
        "    # Exact year\n",
        "    {\"label\": \"ON_YEAR\", \"pattern\": [{\"LOWER\": {\"IN\": [\"in\", \"on\"]}},\n",
        "                                        {\"TEXT\": {\"REGEX\": r\"\\d{4}+\"}}]}\n",
        "])"
      ],
      "metadata": {
        "id": "Ajqltfh3s2l6"
      },
      "execution_count": null,
      "outputs": []
    },
    {
      "cell_type": "markdown",
      "source": [
        "Genders can be covered easily as well."
      ],
      "metadata": {
        "id": "n6slUrLF5kxG"
      }
    },
    {
      "cell_type": "code",
      "source": [
        "patterns.extend([\n",
        "    # Male\n",
        "    {\"label\": \"GENDER_MALE\", \"pattern\": [{\"LOWER\": \"male\"}]},\n",
        "    {\"label\": \"GENDER_MALE\", \"pattern\": [{\"LOWER\": \"m\"}]},\n",
        "    {\"label\": \"GENDER_MALE\", \"pattern\": [{\"LOWER\": \"man\"}]},\n",
        "    {\"label\": \"GENDER_MALE\", \"pattern\": [{\"LOWER\": \"boy\"}]},\n",
        "    {\"label\": \"GENDER_MALE\", \"pattern\": [{\"LOWER\": \"boys\"}]},\n",
        "\n",
        "    # Female\n",
        "    {\"label\": \"GENDER_FEMALE\", \"pattern\": [{\"LOWER\": \"female\"}]},\n",
        "    {\"label\": \"GENDER_FEMALE\", \"pattern\": [{\"LOWER\": \"f\"}]},\n",
        "    {\"label\": \"GENDER_FEMALE\", \"pattern\": [{\"LOWER\": \"woman\"}]},\n",
        "    {\"label\": \"GENDER_FEMALE\", \"pattern\": [{\"LOWER\": \"girl\"}]},\n",
        "    {\"label\": \"GENDER_FEMALE\", \"pattern\": [{\"LOWER\": \"girls\"}]},\n",
        "\n",
        "    # Other / non-binary\n",
        "    {\"label\": \"GENDER_OTHER\", \"pattern\": [{\"LOWER\": \"non-binary\"}]},\n",
        "    {\"label\": \"GENDER_OTHER\", \"pattern\": [{\"LOWER\": \"nb\"}]},\n",
        "    {\"label\": \"GENDER_OTHER\", \"pattern\": [{\"LOWER\": \"transgender\"}]},\n",
        "    {\"label\": \"GENDER_OTHER\", \"pattern\": [{\"LOWER\": \"genderqueer\"}]},\n",
        "    {\"label\": \"GENDER_OTHER\", \"pattern\": [{\"LOWER\": \"agender\"}]},\n",
        "    {\"label\": \"GENDER_OTHER\", \"pattern\": [{\"LOWER\": \"other\"}]},\n",
        "    {\"label\": \"GENDER_OTHER\", \"pattern\": [{\"LOWER\": \"unknown\"}]},\n",
        "    {\"label\": \"GENDER_OTHER\", \"pattern\": [{\"LOWER\": \"lgbtq\"}]}\n",
        "])"
      ],
      "metadata": {
        "id": "1sUL1t0A5Tuj"
      },
      "execution_count": null,
      "outputs": []
    },
    {
      "cell_type": "markdown",
      "source": [
        "Let's include age as well"
      ],
      "metadata": {
        "id": "6AqY9wMf7EDU"
      }
    },
    {
      "cell_type": "code",
      "source": [
        "patterns.extend([\n",
        "        {\"label\": \"AGE_OVER\", \"pattern\": [\n",
        "        {\"LOWER\": {\"IN\": [\"over\", \"older\", \"above\", \"greater\", \"more\"]}},\n",
        "        {\"TEXT\": {\"REGEX\": r\"\\d{1,3}\"}}\n",
        "    ]},\n",
        "    {\"label\": \"AGE_UNDER\", \"pattern\": [\n",
        "        {\"LOWER\": {\"IN\": [\"under\", \"younger\", \"below\", \"less\"]}},\n",
        "        {\"TEXT\": {\"REGEX\": r\"\\d{1,3}\"}}\n",
        "    ]},\n",
        "    {\"label\": \"AGE_EXACT\", \"pattern\": [\n",
        "        {\"LOWER\": {\"IN\": [\"age\", \"aged\", \"is\", \"years\", \"year\"]}},\n",
        "        {\"TEXT\": {\"REGEX\": r\"\\d{1,3}\"}}\n",
        "    ]}\n",
        "])"
      ],
      "metadata": {
        "id": "2qWrz0DrBj3r"
      },
      "execution_count": null,
      "outputs": []
    },
    {
      "cell_type": "markdown",
      "source": [
        "Names are already identitied as \"PERSON\" by NER. I need to differentiate between middle, last and initial names."
      ],
      "metadata": {
        "id": "X4Qt_6vbK7ly"
      }
    },
    {
      "cell_type": "code",
      "source": [
        "# First / Given name triggers\n",
        "given_name_patterns = [\n",
        "    {\"label\": \"GIVEN_NAME_TRIGGER\", \"pattern\": [{\"LOWER\": \"first\"}, {\"LOWER\": \"name\"}]},\n",
        "    {\"label\": \"GIVEN_NAME_TRIGGER\", \"pattern\": [{\"LOWER\": \"given\"}, {\"LOWER\": \"name\"}]},\n",
        "    {\"label\": \"GIVEN_NAME_TRIGGER\", \"pattern\": [{\"LOWER\": \"forename\"}]},\n",
        "    {\"label\": \"GIVEN_NAME_TRIGGER\", \"pattern\": [{\"LOWER\": \"personal\"}, {\"LOWER\": \"name\"}]},\n",
        "]\n",
        "\n",
        "# Last / Family name triggers\n",
        "family_name_patterns = [\n",
        "    {\"label\": \"FAMILY_NAME_TRIGGER\", \"pattern\": [{\"LOWER\": \"last\"}, {\"LOWER\": \"name\"}]},\n",
        "    {\"label\": \"FAMILY_NAME_TRIGGER\", \"pattern\": [{\"LOWER\": \"family\"}, {\"LOWER\": \"name\"}]},\n",
        "    {\"label\": \"FAMILY_NAME_TRIGGER\", \"pattern\": [{\"LOWER\": \"surname\"}]},\n",
        "    {\"label\": \"FAMILY_NAME_TRIGGER\", \"pattern\": [{\"LOWER\": \"second\"}, {\"LOWER\": \"name\"}]},\n",
        "    {\"label\": \"FAMILY_NAME_TRIGGER\", \"pattern\": [{\"LOWER\": \"clan\"}, {\"LOWER\": \"name\"}]},\n",
        "    {\"label\": \"FAMILY_NAME_TRIGGER\", \"pattern\": [{\"LOWER\": \"maiden\"}, {\"LOWER\": \"name\"}]},\n",
        "]\n",
        "\n",
        "# General name references\n",
        "general_name_patterns = [\n",
        "    {\"label\": \"NAME_GENERAL\", \"pattern\": [{\"LOWER\": \"name\"}]},\n",
        "    {\"label\": \"NAME_GENERAL\", \"pattern\": [{\"LOWER\": \"named\"}]},\n",
        "    {\"label\": \"NAME_GENERAL\", \"pattern\": [{\"LOWER\": \"called\"}]},\n",
        "    {\"label\": \"NAME_GENERAL\", \"pattern\": [{\"LOWER\": \"known\"}, {\"LOWER\": \"as\"}]},\n",
        "    {\"label\": \"NAME_GENERAL\", \"pattern\": [{\"LOWER\": \"alias\"}]},\n",
        "    {\"label\": \"NAME_GENERAL\", \"pattern\": [{\"LOWER\": \"aka\"}]},\n",
        "    {\"label\": \"NAME_GENERAL\", \"pattern\": [{\"LOWER\": \"a.k.a.\"}]},\n",
        "    {\"label\": \"NAME_GENERAL\", \"pattern\": [{\"LOWER\": \"middle\"}, {\"LOWER\": \"name\"}]},\n",
        "]\n",
        "\n",
        "patterns.extend(given_name_patterns + family_name_patterns + general_name_patterns)"
      ],
      "metadata": {
        "id": "RhaHKzjeLIn0"
      },
      "execution_count": null,
      "outputs": []
    },
    {
      "cell_type": "markdown",
      "source": [
        "To identify general practitioner, I picked specific phrases that usually come before the name or id (info that identify the GP) as triggers."
      ],
      "metadata": {
        "id": "r8LFU8qeiDwi"
      }
    },
    {
      "cell_type": "code",
      "source": [
        " patterns.extend([\n",
        "     # Titles / prefixes\n",
        "    {\"label\": \"GP_TRIGGER\", \"pattern\": [{\"LOWER\": {\"REGEX\": r\"dr\\.?\"}}]},\n",
        "    {\"label\": \"GP_TRIGGER\", \"pattern\": [{\"LOWER\": \"doctor\"}]},\n",
        "    {\"label\": \"GP_TRIGGER\", \"pattern\": [{\"LOWER\": \"physician\"}]},\n",
        "    {\"label\": \"GP_TRIGGER\", \"pattern\": [{\"LOWER\": \"gp\"}]},\n",
        "    {\"label\": \"GP_TRIGGER\", \"pattern\": [{\"LOWER\": \"family\"}, {\"LOWER\": \"doctor\"}]},\n",
        "    {\"label\": \"GP_TRIGGER\", \"pattern\": [{\"LOWER\": \"primary\"}, {\"LOWER\": \"care\"}, {\"LOWER\": \"provider\"}]},\n",
        "\n",
        "    # Care assignment phrases\n",
        "    {\"label\": \"GP_TRIGGER\", \"pattern\": [{\"LOWER\": \"patients\"}, {\"LOWER\": \"of\"}]},\n",
        "    {\"label\": \"GP_TRIGGER\", \"pattern\": [{\"LOWER\": \"under\"}]},\n",
        "    {\"label\": \"GP_TRIGGER\", \"pattern\": [{\"LOWER\": \"seeing\"}]},\n",
        "    {\"label\": \"GP_TRIGGER\", \"pattern\": [{\"LOWER\": \"assigned\"}, {\"LOWER\": \"to\"}]},\n",
        "    {\"label\": \"GP_TRIGGER\", \"pattern\": [{\"LOWER\": \"managed\"}, {\"LOWER\": \"by\"}]},\n",
        "    {\"label\": \"GP_TRIGGER\", \"pattern\": [{\"LOWER\": \"supervised\"}, {\"LOWER\": \"by\"}]},\n",
        "    {\"label\": \"GP_TRIGGER\", \"pattern\": [{\"LOWER\": \"attending\"}]},\n",
        "    {\"label\": \"GP_TRIGGER\", \"pattern\": [{\"LOWER\": \"covering\"}]},\n",
        "    {\"label\": \"GP_TRIGGER\", \"pattern\": [{\"LOWER\": \"co-managing\"}]},\n",
        "\n",
        "    # IDs / reference numbers\n",
        "    {\"label\": \"GP_TRIGGER\", \"pattern\": [{\"LOWER\": \"npi\"}]},\n",
        "    {\"label\": \"GP_TRIGGER\", \"pattern\": [{\"LOWER\": \"dea\"}]},\n",
        "    {\"label\": \"GP_TRIGGER\", \"pattern\": [{\"LOWER\": \"provider\"}, {\"LOWER\": \"code\"}]},\n",
        "\n",
        "     # More references to GPs\n",
        "    {\"label\": \"GP_TRIGGER\", \"pattern\": [{\"LOWER\": \"patients\"}, {\"LOWER\": \"of\"}]},\n",
        "    {\"label\": \"GP_TRIGGER\", \"pattern\": [{\"LOWER\": \"patients\"}, {\"LOWER\": \"seeing\"}]},\n",
        "    {\"label\": \"GP_TRIGGER\", \"pattern\": [{\"LOWER\": \"who\"}, {\"LOWER\": \"go\"}, {\"LOWER\": \"to\"}]},\n",
        "    {\"label\": \"GP_TRIGGER\", \"pattern\": [{\"LOWER\": \"primary\"}, {\"LOWER\": \"care\"}]},\n",
        "    {\"label\": \"GP_TRIGGER\", \"pattern\": [{\"LOWER\": \"primary\"}, {\"LOWER\": \"medical\"}, {\"LOWER\": \"provider\"}]},\n",
        "    {\"label\": \"GP_TRIGGER\", \"pattern\": [{\"LOWER\": \"primary\"}, {\"LOWER\": \"healthcare\"}, {\"LOWER\": \"provider\"}]},\n",
        " ])"
      ],
      "metadata": {
        "id": "DFKBugIuiWRa"
      },
      "execution_count": null,
      "outputs": []
    },
    {
      "cell_type": "code",
      "source": [
        "if \"entity_ruler\" not in nlp.pipe_names:\n",
        "    ruler = nlp.add_pipe(\"entity_ruler\", before=\"ner\")\n",
        "else:\n",
        "    ruler = nlp.get_pipe(\"entity_ruler\")\n",
        "\n",
        "ruler.add_patterns(patterns)"
      ],
      "metadata": {
        "id": "N7RMg2OquAXN"
      },
      "execution_count": null,
      "outputs": []
    },
    {
      "cell_type": "code",
      "source": [
        "phone_identifiers_prompts = [\n",
        "    \"Find patients with email sara@example.com\",\n",
        "    \"Get the patient with MRN 445566.\",\n",
        "    \"Show patients with mobile +971501234567\",\n",
        "    \"Get patient by hospital ID H789012\",\n",
        "    \"Find multiple patients by MRNs 123456, 789012, 345678\",\n",
        "]\n",
        "documents = [nlp(prompt) for prompt in phone_identifiers_prompts]\n",
        "for document in documents:\n",
        "  print([(ent.text, ent.label_) for ent in document.ents])"
      ],
      "metadata": {
        "colab": {
          "base_uri": "https://localhost:8080/"
        },
        "id": "cqpzF_fYaMrY",
        "outputId": "2b0be72d-4a86-4a77-d275-f75cf3e90f50"
      },
      "execution_count": null,
      "outputs": [
        {
          "output_type": "stream",
          "name": "stdout",
          "text": [
            "[('sara@example.com', 'EMAIL')]\n",
            "[('445566', 'IDENTIFIER')]\n",
            "[('+971501234567', 'PHONE')]\n",
            "[('H789012', 'IDENTIFIER')]\n",
            "[('123456', 'IDENTIFIER'), ('789012', 'IDENTIFIER'), ('345678', 'IDENTIFIER')]\n"
          ]
        }
      ]
    },
    {
      "cell_type": "markdown",
      "source": [
        "So far using RegEx can cover most cases related to identifiers and phone numbers as well as emails.\n",
        "\n",
        "What it can't do:\n",
        "- Identify SSN and phone numbers with spaces and dashes in between\n",
        "- Wildcard searches: Using * for partial matches"
      ],
      "metadata": {
        "id": "HOQI27WAb3yC"
      }
    },
    {
      "cell_type": "code",
      "source": [
        "born_prompts = [\n",
        "    \"Find patients born in 1985\",\n",
        "    \"Show me patients born between 1990 and 2000\",\n",
        "    \"Get patients born on JAN 15 1995\",\n",
        "    \"Find all pediatric patients (born after 2010)\",\n",
        "    \"Show elderly patients (born before 1950)\",\n",
        "    \"Find patients born this century \",\n",
        "    \"Find patients born in 15 Sep 1995\",\n",
        "]\n",
        "documents = [nlp(prompt) for prompt in born_prompts]\n",
        "for document in documents:\n",
        "  print([(ent.text, ent.label_) for ent in document.ents])"
      ],
      "metadata": {
        "colab": {
          "base_uri": "https://localhost:8080/"
        },
        "id": "-W2DQIaEu9cv",
        "outputId": "d4dd0530-cbb0-4487-8c64-c684d9cb18af"
      },
      "execution_count": null,
      "outputs": [
        {
          "output_type": "stream",
          "name": "stdout",
          "text": [
            "[('born', 'BIRTH_KEYWORD'), ('in 1985', 'ON_YEAR')]\n",
            "[('born', 'BIRTH_KEYWORD'), ('1990 and 2000', 'YEAR_RANGE')]\n",
            "[('born', 'BIRTH_KEYWORD'), ('JAN 15 1995', 'DATE')]\n",
            "[('born', 'BIRTH_KEYWORD'), ('after 2010', 'YEAR_AFTER')]\n",
            "[('born', 'BIRTH_KEYWORD'), ('before 1950', 'YEAR_BEFORE')]\n",
            "[('born', 'BIRTH_KEYWORD'), ('this century', 'DATE')]\n",
            "[('born', 'BIRTH_KEYWORD'), ('15 Sep 1995', 'DATE')]\n"
          ]
        }
      ]
    },
    {
      "cell_type": "markdown",
      "source": [
        "This is not bad! It covers a considerably good range of possibilities when I'm only using the year. But here's a list of out limitations:\n",
        "- Find patients born this century -> it's not smart enough to detect decades or any lingustic expression that doesn't include numbers"
      ],
      "metadata": {
        "id": "DNYrsEYSylF8"
      }
    },
    {
      "cell_type": "code",
      "source": [
        "death_prompts = [\n",
        "  \"Find patients who died in 2023\",\n",
        "  \"Get patients deceased on 2023-03-15\",\n",
        "  \"Show patients who died after 2020\"\n",
        "]\n",
        "\n",
        "documents = [nlp(prompt) for prompt in death_prompts]\n",
        "for document in documents:\n",
        "  print([(ent.text, ent.label_) for ent in document.ents])"
      ],
      "metadata": {
        "colab": {
          "base_uri": "https://localhost:8080/"
        },
        "id": "ZYvAXlyp1vZr",
        "outputId": "6c2827b8-170c-4a80-b6aa-3376a6c96f0c"
      },
      "execution_count": null,
      "outputs": [
        {
          "output_type": "stream",
          "name": "stdout",
          "text": [
            "[('died', 'DEATH_KEYWORD'), ('in 2023', 'ON_YEAR')]\n",
            "[('deceased', 'DEATH_KEYWORD'), ('on 2023', 'ON_YEAR'), ('03-15', 'DATE')]\n",
            "[('died', 'DEATH_KEYWORD'), ('after 2020', 'YEAR_AFTER')]\n"
          ]
        }
      ]
    },
    {
      "cell_type": "markdown",
      "source": [
        "Limitations:\n",
        "- Show me all living patients → Patients?deceased=false"
      ],
      "metadata": {
        "id": "SVvIMpUb36vx"
      }
    },
    {
      "cell_type": "code",
      "source": [
        "gender_prompts = [\"Find all male patients\",\n",
        "                  \"Show all female patients\",\n",
        "                  \"Get all female patients over 65\",\n",
        "                  \"Find unknown gender patients\",\n",
        "                  \"Show me all diabetic patients over 50\"\n",
        "]\n",
        "\n",
        "documents = [nlp(prompt) for prompt in gender_prompts]\n",
        "for document in documents:\n",
        "  print([(ent.text, ent.label_) for ent in document.ents])"
      ],
      "metadata": {
        "colab": {
          "base_uri": "https://localhost:8080/"
        },
        "id": "pZgWexeN5ysm",
        "outputId": "564c1838-02a6-42e4-fb0d-4c29404e0e45"
      },
      "execution_count": null,
      "outputs": [
        {
          "output_type": "stream",
          "name": "stdout",
          "text": [
            "[('male', 'GENDER_MALE')]\n",
            "[('female', 'GENDER_FEMALE')]\n",
            "[('female', 'GENDER_FEMALE'), ('over 65', 'AGE_OVER')]\n",
            "[('unknown', 'GENDER_OTHER')]\n",
            "[('over 50', 'AGE_OVER')]\n"
          ]
        }
      ]
    },
    {
      "cell_type": "markdown",
      "source": [
        "For names, NER already recognizes those as PERSON. Let's test that:"
      ],
      "metadata": {
        "id": "RgLJb1gEG6WB"
      }
    },
    {
      "cell_type": "code",
      "source": [
        "names_prompts = [\n",
        "    \"Find patients with first name Sarah\",\n",
        "    \"Show me all patients with family name Johnson\",\n",
        "    \"Find patients named Maria Garcia\",\n",
        "    \"Get all patients with last name starting with 'Al'\",\n",
        "    \"Show patients named John Smith or John Doe\",\n",
        "    \"Show me patients named Ahmed Ali\",\n",
        "    \"Show patients named Fatima, born in 1995, living in Cairo.\"\n",
        "]\n",
        "documents = [nlp(prompt) for prompt in names_prompts]\n",
        "for document in documents:\n",
        "  print([(ent.text, ent.label_) for ent in document.ents])"
      ],
      "metadata": {
        "colab": {
          "base_uri": "https://localhost:8080/"
        },
        "id": "jZlM7DQ7G5wJ",
        "outputId": "130accc9-5ec5-4ed8-eefb-a945911ae1aa"
      },
      "execution_count": null,
      "outputs": [
        {
          "output_type": "stream",
          "name": "stdout",
          "text": [
            "[('first name', 'GIVEN_NAME_TRIGGER'), ('Sarah', 'PERSON')]\n",
            "[('family name', 'FAMILY_NAME_TRIGGER'), ('Johnson', 'PERSON')]\n",
            "[('named', 'NAME_GENERAL'), ('Maria Garcia', 'PERSON')]\n",
            "[('last name', 'FAMILY_NAME_TRIGGER'), ('Al', 'PERSON')]\n",
            "[('named', 'NAME_GENERAL'), ('John Smith', 'PERSON'), ('John Doe', 'PERSON')]\n",
            "[('named', 'NAME_GENERAL'), ('Ahmed Ali', 'PERSON')]\n",
            "[('named', 'NAME_GENERAL'), ('Fatima', 'PERSON'), ('born', 'BIRTH_KEYWORD'), ('in 1995', 'ON_YEAR'), ('Cairo', 'GPE')]\n"
          ]
        }
      ]
    },
    {
      "cell_type": "markdown",
      "source": [
        "This captures most of the prompts with triggers that help identify the category of the name after.\n",
        "\n",
        "Limitations:\n",
        "- Wildcard searches: Using * for partial matches"
      ],
      "metadata": {
        "id": "qAdoyVIPMNcy"
      }
    },
    {
      "cell_type": "code",
      "source": [
        "\n",
        "patient_query = [\n",
        "    \"Find patients at Mayo Clinic\",\n",
        "    \"Show patients managed by Johns Hopkins\",\n",
        "    \"Get patients from Dubai Hospital\",\n",
        "    \"Find patients on Main Street\",\n",
        "    \"Show patients at apartment buildings\", # won't be identified\n",
        "    \"Get patients on 5th Avenue\",\n",
        "    \"Find patients in Dubai, UAE\",\n",
        "    \"Show patients living in New York\",\n",
        "    \"Get patients from California\",\n",
        "    \"List patients treated at Cleveland Clinic\",\n",
        "    \"Show all patients from Memorial Hospital\",\n",
        "    \"Find patients under Mercy Health System\",\n",
        "    \"Show patients living on Oak Street\",\n",
        "    \"Find patients in downtown area\", # won't be identified\n",
        "    \"Get patients from residential complexes\", # won't be identified\n",
        "    \"Find patients in Los Angeles, California\",\n",
        "    \"Show patients from Miami, Florida\",\n",
        "    \"Get patients in Toronto, Canada\"\n",
        "]\n",
        "\n",
        "documents = [nlp(prompt) for prompt in patient_query ]\n",
        "for document in documents:\n",
        "  print([(ent.text, ent.label_) for ent in document.ents])"
      ],
      "metadata": {
        "colab": {
          "base_uri": "https://localhost:8080/"
        },
        "id": "xPGxEqEXOQBf",
        "outputId": "b3a5625d-b25e-4df1-8e6a-76266178758a"
      },
      "execution_count": null,
      "outputs": [
        {
          "output_type": "stream",
          "name": "stdout",
          "text": [
            "[('Mayo Clinic', 'ORG')]\n",
            "[('managed by', 'GP_TRIGGER'), ('Johns Hopkins', 'ORG')]\n",
            "[('Dubai Hospital', 'ORG')]\n",
            "[('Main Street', 'FAC')]\n",
            "[]\n",
            "[('5th Avenue', 'FAC')]\n",
            "[('Dubai', 'GPE'), ('UAE', 'GPE')]\n",
            "[('New York', 'GPE')]\n",
            "[('California', 'GPE')]\n",
            "[('Cleveland Clinic', 'ORG')]\n",
            "[('Memorial Hospital', 'ORG')]\n",
            "[('under', 'GP_TRIGGER'), ('Mercy Health System', 'ORG')]\n",
            "[('Oak Street', 'FAC')]\n",
            "[]\n",
            "[]\n",
            "[('Los Angeles', 'GPE'), ('California', 'GPE')]\n",
            "[('Miami', 'GPE'), ('Florida', 'GPE')]\n",
            "[('Toronto', 'GPE'), ('Canada', 'GPE')]\n"
          ]
        }
      ]
    },
    {
      "cell_type": "markdown",
      "source": [
        "I think it's diffficult to differntiate between city, state and country without LLMs"
      ],
      "metadata": {
        "id": "NivINmwgPQoJ"
      }
    },
    {
      "cell_type": "code",
      "source": [
        "GP_prompts = [\n",
        "    \"List patients of Dr Ahmed Al-Rashid\",\n",
        "    \"Find patients under Dr. Maria Garcia\",\n",
        "    \"Show patients of Dr. Williams\",\n",
        "    \"Show patients under GP ID DOC001\",\n",
        "    \"Find patients with physician ID MD123\",\n",
        "    \"Show patients under family physician Taylor\",\n",
        "    \"List patients with primary care Miller\",\n",
        "    \"Get patients with family doctors Johnson, Williams, Brown\",\n",
        "    \"Who are Dr. Baker's patients?\",\n",
        "    \"Show me patients seeing Dr. Cooper\",\n",
        "    \"Which patients go to Dr. Murphy?\",\n",
        "    \"Get patients with primary medical provider Dr. Bell\",\n",
        "    \"List patients of primary healthcare provider Dr. Gray\"\n",
        "]\n",
        "\n",
        "documents = [nlp(prompt) for prompt in GP_prompts]\n",
        "for document in documents:\n",
        "  print([(ent.text, ent.label_) for ent in document.ents])"
      ],
      "metadata": {
        "colab": {
          "base_uri": "https://localhost:8080/"
        },
        "id": "pcFDrm30jBDr",
        "outputId": "91ad2ca7-14c8-462b-a41b-f3667c458262"
      },
      "execution_count": null,
      "outputs": [
        {
          "output_type": "stream",
          "name": "stdout",
          "text": [
            "[('patients of', 'GP_TRIGGER'), ('Dr', 'GP_TRIGGER'), ('Ahmed Al', 'PERSON')]\n",
            "[('under', 'GP_TRIGGER'), ('Dr.', 'GP_TRIGGER'), ('Maria Garcia', 'PERSON')]\n",
            "[('patients of', 'GP_TRIGGER'), ('Dr.', 'GP_TRIGGER'), ('Williams', 'PERSON')]\n",
            "[('under', 'GP_TRIGGER'), ('GP', 'GP_TRIGGER'), ('DOC001', 'IDENTIFIER')]\n",
            "[('physician', 'GP_TRIGGER')]\n",
            "[('under', 'GP_TRIGGER'), ('physician', 'GP_TRIGGER'), ('Taylor', 'PERSON')]\n",
            "[('primary care', 'GP_TRIGGER'), ('Miller', 'PERSON')]\n",
            "[('Johnson', 'PERSON'), ('Williams', 'PERSON'), ('Brown', 'PERSON')]\n",
            "[('Family Medical Group', 'ORG')]\n",
            "[('Dr.', 'GP_TRIGGER'), ('Baker', 'PERSON')]\n",
            "[('patients seeing', 'GP_TRIGGER'), ('Dr.', 'GP_TRIGGER'), ('Cooper', 'PERSON')]\n",
            "[('Dr.', 'GP_TRIGGER'), ('Murphy', 'PERSON')]\n",
            "[('primary medical provider', 'GP_TRIGGER'), ('Dr.', 'GP_TRIGGER'), ('Bell', 'PERSON')]\n",
            "[('patients of', 'GP_TRIGGER'), ('primary healthcare provider', 'GP_TRIGGER'), ('Dr.', 'GP_TRIGGER'), ('Gray', 'PERSON')]\n"
          ]
        }
      ]
    },
    {
      "cell_type": "markdown",
      "source": [
        "Now the NER matches most of the filters used as search parameters in the Patient resource related SEARCH query.\n",
        "\n",
        "Limitations (prioritized to address):\n",
        "- conditions\n",
        "- state/city/country as addresses\n",
        "\n",
        "These require training the NER with relevant data that is annotated, because they’re highly context-dependent."
      ],
      "metadata": {
        "id": "9F0lKGmhpBlw"
      }
    }
  ]
}